{
 "cells": [
  {
   "cell_type": "code",
   "execution_count": 28,
   "metadata": {},
   "outputs": [
    {
     "name": "stdout",
     "output_type": "stream",
     "text": [
      "The path to the notebook is: /home/ucecabj/Desktop/MFI_git/MFI_class1D\n"
     ]
    }
   ],
   "source": [
    "# Import the necessary libraries\n",
    "import numpy as np\n",
    "import matplotlib.pyplot as plt\n",
    "from importlib import reload\n",
    "import os\n",
    "from scipy.interpolate import interp1d\n",
    "\n",
    "# Import the MFI library \n",
    "import MFI_lib1D as lib1\n",
    "import MFI_class1D\n",
    "\n",
    "# Set the path to the notebook and the data folder (and figures folder if needed)\n",
    "if 'path_notebook' not in globals(): path_notebook = os.getcwd()\n",
    "print(\"The path to the notebook is:\", path_notebook)\n",
    "# path_figures = \"/home/ucecabj/Pictures/MFI_figures/\"\n",
    "\n",
    "# Set the plotting parameters\n",
    "for _plt_parameters_ in [0]:\n",
    "    from matplotlib import rc\n",
    "    plt.rcParams.update({ \"text.usetex\": True, \"font.family\": \"serif\", \"font.serif\": [\"Helvetica\"], \"font.size\": 12, \"axes.titleweight\": \"bold\"})\n",
    "    plw = 0.6  # width of (box line, tick line, ...)\n",
    "    plt.rcParams.update({\"axes.linewidth\": plw, \"figure.figsize\": (4,3)}) \n",
    "    plt.rcParams.update({\"xtick.top\": True, \"xtick.direction\": \"in\", \"xtick.major.width\": plw, \"xtick.minor.width\": plw, \"xtick.minor.visible\": True, \"xtick.major.size\": 5})\n",
    "    plt.rcParams.update({\"ytick.right\": True, \"ytick.direction\": \"in\", \"ytick.major.width\": plw, \"ytick.minor.width\": plw, \"ytick.minor.visible\": True, \"ytick.major.size\": 5})\n",
    "\n"
   ]
  },
  {
   "cell_type": "code",
   "execution_count": null,
   "metadata": {},
   "outputs": [],
   "source": []
  },
  {
   "cell_type": "code",
   "execution_count": null,
   "metadata": {},
   "outputs": [],
   "source": []
  }
 ],
 "metadata": {
  "kernelspec": {
   "display_name": "base",
   "language": "python",
   "name": "python3"
  },
  "language_info": {
   "codemirror_mode": {
    "name": "ipython",
    "version": 3
   },
   "file_extension": ".py",
   "mimetype": "text/x-python",
   "name": "python",
   "nbconvert_exporter": "python",
   "pygments_lexer": "ipython3",
   "version": "3.9.19"
  },
  "orig_nbformat": 4
 },
 "nbformat": 4,
 "nbformat_minor": 2
}
