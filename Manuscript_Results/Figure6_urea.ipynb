{
 "cells": [
  {
   "cell_type": "code",
   "execution_count": 2,
   "id": "bf670ef5-92cc-4068-b05b-74671cf940a0",
   "metadata": {},
   "outputs": [
    {
     "name": "stdout",
     "output_type": "stream",
     "text": [
      "The path is: /Users/matteo/Projects/MFI_matteo/MFI\n"
     ]
    }
   ],
   "source": [
    "import numpy as np\n",
    "import matplotlib.pyplot as plt\n",
    "import pickle\n",
    "import os\n",
    "import sys\n",
    "import time\n",
    "from matplotlib import colors\n",
    "import matplotlib.gridspec as gridspec\n",
    "from mpl_toolkits.axes_grid1.inset_locator import inset_axes\n",
    "from matplotlib.colors import LogNorm\n",
    "from matplotlib import cm, ticker\n",
    "from matplotlib.colors import LinearSegmentedColormap\n",
    "from scipy.interpolate import interpn\n",
    "\n",
    "if 'path' in locals(): os.chdir(path)\n",
    "else: os.chdir(\"../\"); path = os.getcwd()\n",
    "print(\"The path is:\", path)\n",
    "path_manustript = path + \"/Manuscript_Results/\"\n",
    "from pyMFI import MFI\n",
    "from pyMFI import MFI1D\n",
    "from pyMFI import run_plumed\n",
    "\n",
    "from matplotlib import rc\n",
    "plt.rcParams.update({ \"text.usetex\": True, \"font.family\": \"serif\", \"font.serif\": [\"computer modern roman\"], \"font.size\": 22})\n",
    "boldfont = {'fontname':'Helvetica', 'fontweight':'bold'}\n",
    "\n",
    "plw = 0.6\n",
    "pcs = 3\n",
    "pms = 3\n",
    "bfillc = [0.9,0.9,0.9]\n",
    "plt.rcParams['axes.linewidth'] = plw\n",
    "plt.rcParams['xtick.top'] = True\n",
    "plt.rcParams['xtick.direction'] = 'in'\n",
    "plt.rcParams['xtick.major.width'] = plw\n",
    "plt.rcParams['xtick.minor.width'] = plw\n",
    "plt.rcParams['xtick.minor.visible'] = True\n",
    "plt.rcParams['xtick.major.size'] = 4.5\n",
    "plt.rcParams['ytick.right'] = True\n",
    "plt.rcParams['ytick.direction'] = 'in'\n",
    "plt.rcParams['ytick.major.width'] = plw\n",
    "plt.rcParams['ytick.minor.width'] = plw\n",
    "plt.rcParams['ytick.minor.visible'] = True\n",
    "plt.rcParams['ytick.major.size'] = 5\n",
    "plt.rcParams[\"figure.figsize\"] = (5,4)"
   ]
  },
  {
   "cell_type": "markdown",
   "id": "b025cccb-7bb0-434b-ab82-9fd15eb52532",
   "metadata": {},
   "source": [
    "### Forward Simulations"
   ]
  },
  {
   "cell_type": "code",
   "execution_count": 10,
   "id": "04eb4b8f-ce76-453d-afaa-ae7a8a8130ec",
   "metadata": {},
   "outputs": [
    {
     "name": "stdout",
     "output_type": "stream",
     "text": [
      "(200,)\n",
      "\n",
      "Analysing Simulation 1\n",
      "|********                                          | 16% | Average Mean Force Error: 3.485"
     ]
    },
    {
     "ename": "KeyboardInterrupt",
     "evalue": "",
     "output_type": "error",
     "traceback": [
      "\u001b[0;31m---------------------------------------------------------------------------\u001b[0m",
      "\u001b[0;31mKeyboardInterrupt\u001b[0m                         Traceback (most recent call last)",
      "\u001b[0;32m<ipython-input-10-527ab4391d29>\u001b[0m in \u001b[0;36m<module>\u001b[0;34m\u001b[0m\n\u001b[1;32m     52\u001b[0m \u001b[0;34m\u001b[0m\u001b[0m\n\u001b[1;32m     53\u001b[0m     \u001b[0;31m#COMPUTE Mean force and weight of the simulation\u001b[0m\u001b[0;34m\u001b[0m\u001b[0;34m\u001b[0m\u001b[0;34m\u001b[0m\u001b[0m\n\u001b[0;32m---> 54\u001b[0;31m     \u001b[0mresults\u001b[0m \u001b[0;34m=\u001b[0m \u001b[0mMFI\u001b[0m\u001b[0;34m.\u001b[0m\u001b[0mMFI_2D\u001b[0m\u001b[0;34m(\u001b[0m\u001b[0mHILLS\u001b[0m \u001b[0;34m=\u001b[0m \u001b[0mHILLS\u001b[0m\u001b[0;34m,\u001b[0m \u001b[0mposition_x\u001b[0m \u001b[0;34m=\u001b[0m \u001b[0mposition_x\u001b[0m\u001b[0;34m,\u001b[0m \u001b[0mposition_y\u001b[0m \u001b[0;34m=\u001b[0m \u001b[0mposition_y\u001b[0m\u001b[0;34m,\u001b[0m \u001b[0mbw\u001b[0m \u001b[0;34m=\u001b[0m \u001b[0mnp\u001b[0m\u001b[0;34m.\u001b[0m\u001b[0marray\u001b[0m\u001b[0;34m(\u001b[0m\u001b[0;34m(\u001b[0m\u001b[0mpbt_bandwidth\u001b[0m\u001b[0;34m,\u001b[0m \u001b[0mpbt_bandwidth\u001b[0m\u001b[0;34m)\u001b[0m\u001b[0;34m)\u001b[0m\u001b[0;34m,\u001b[0m \u001b[0mkT\u001b[0m \u001b[0;34m=\u001b[0m \u001b[0;36m1\u001b[0m\u001b[0;34m,\u001b[0m \u001b[0mmin_grid\u001b[0m\u001b[0;34m=\u001b[0m\u001b[0mnp\u001b[0m\u001b[0;34m.\u001b[0m\u001b[0marray\u001b[0m\u001b[0;34m(\u001b[0m\u001b[0;34m(\u001b[0m\u001b[0mnp\u001b[0m\u001b[0;34m.\u001b[0m\u001b[0mmin\u001b[0m\u001b[0;34m(\u001b[0m\u001b[0mX\u001b[0m\u001b[0;34m)\u001b[0m\u001b[0;34m,\u001b[0m \u001b[0mnp\u001b[0m\u001b[0;34m.\u001b[0m\u001b[0mmin\u001b[0m\u001b[0;34m(\u001b[0m\u001b[0mY\u001b[0m\u001b[0;34m)\u001b[0m\u001b[0;34m)\u001b[0m\u001b[0;34m)\u001b[0m\u001b[0;34m,\u001b[0m \u001b[0mmax_grid\u001b[0m\u001b[0;34m=\u001b[0m\u001b[0mnp\u001b[0m\u001b[0;34m.\u001b[0m\u001b[0marray\u001b[0m\u001b[0;34m(\u001b[0m\u001b[0;34m(\u001b[0m\u001b[0mnp\u001b[0m\u001b[0;34m.\u001b[0m\u001b[0mmax\u001b[0m\u001b[0;34m(\u001b[0m\u001b[0mX\u001b[0m\u001b[0;34m)\u001b[0m\u001b[0;34m,\u001b[0m \u001b[0mnp\u001b[0m\u001b[0;34m.\u001b[0m\u001b[0mmax\u001b[0m\u001b[0;34m(\u001b[0m\u001b[0mY\u001b[0m\u001b[0;34m)\u001b[0m\u001b[0;34m)\u001b[0m\u001b[0;34m)\u001b[0m\u001b[0;34m,\u001b[0m \u001b[0mnbins\u001b[0m\u001b[0;34m=\u001b[0m\u001b[0mnp\u001b[0m\u001b[0;34m.\u001b[0m\u001b[0marray\u001b[0m\u001b[0;34m(\u001b[0m\u001b[0;34m(\u001b[0m\u001b[0mnbins\u001b[0m\u001b[0;34m,\u001b[0m\u001b[0mnbins\u001b[0m\u001b[0;34m)\u001b[0m\u001b[0;34m)\u001b[0m\u001b[0;34m,\u001b[0m \u001b[0merror_pace\u001b[0m\u001b[0;34m=\u001b[0m\u001b[0;36m1\u001b[0m\u001b[0;34m,\u001b[0m \u001b[0mbase_terms\u001b[0m \u001b[0;34m=\u001b[0m \u001b[0mmaster_patch\u001b[0m\u001b[0;34m[\u001b[0m\u001b[0;34m-\u001b[0m\u001b[0;36m1\u001b[0m\u001b[0;34m]\u001b[0m\u001b[0;34m,\u001b[0m\u001b[0muse_weighted_st_dev\u001b[0m \u001b[0;34m=\u001b[0m \u001b[0;32mFalse\u001b[0m\u001b[0;34m)\u001b[0m\u001b[0;34m\u001b[0m\u001b[0;34m\u001b[0m\u001b[0m\n\u001b[0m\u001b[1;32m     55\u001b[0m     \u001b[0;34m[\u001b[0m\u001b[0mX\u001b[0m\u001b[0;34m,\u001b[0m \u001b[0mY\u001b[0m\u001b[0;34m,\u001b[0m \u001b[0mFtot_den\u001b[0m\u001b[0;34m,\u001b[0m \u001b[0mFtot_x\u001b[0m\u001b[0;34m,\u001b[0m \u001b[0mFtot_y\u001b[0m\u001b[0;34m,\u001b[0m \u001b[0mofv\u001b[0m\u001b[0;34m,\u001b[0m \u001b[0mofe\u001b[0m\u001b[0;34m,\u001b[0m \u001b[0mcutoff\u001b[0m\u001b[0;34m,\u001b[0m \u001b[0mvolume_history\u001b[0m\u001b[0;34m,\u001b[0m \u001b[0mofe_history\u001b[0m\u001b[0;34m,\u001b[0m \u001b[0maad_history\u001b[0m\u001b[0;34m,\u001b[0m \u001b[0mtime_history\u001b[0m\u001b[0;34m,\u001b[0m \u001b[0mFtot_den2\u001b[0m\u001b[0;34m,\u001b[0m \u001b[0mofv_num_x\u001b[0m\u001b[0;34m,\u001b[0m \u001b[0mofv_num_y\u001b[0m\u001b[0;34m]\u001b[0m \u001b[0;34m=\u001b[0m \u001b[0mresults\u001b[0m\u001b[0;34m\u001b[0m\u001b[0;34m\u001b[0m\u001b[0m\n\u001b[1;32m     56\u001b[0m     \u001b[0mFtot_x\u001b[0m\u001b[0;34m+=\u001b[0m\u001b[0mFxgrid\u001b[0m\u001b[0;34m\u001b[0m\u001b[0;34m\u001b[0m\u001b[0m\n",
      "\u001b[0;32m~/Projects/MFI_matteo/MFI/pyMFI/MFI.py\u001b[0m in \u001b[0;36mMFI_2D\u001b[0;34m(HILLS, position_x, position_y, bw, kT, min_grid, max_grid, nbins, error_pace, base_terms, window_corners, WellTempered, nhills, periodic, Ftot_den_limit, FES_cutoff, Ftot_den_cutoff, non_exploration_penalty, use_weighted_st_dev, hp_centre_x, hp_centre_y, hp_kappa_x, hp_kappa_y, lw_centre_x, lw_centre_y, lw_kappa_x, lw_kappa_y, uw_centre_x, uw_centre_y, uw_kappa_x, uw_kappa_y, F_static_x, F_static_y, compare_to_reference_FES, ref_fes)\u001b[0m\n\u001b[1;32m   1147\u001b[0m                                 \u001b[0mkernel_x\u001b[0m \u001b[0;34m=\u001b[0m \u001b[0mnp\u001b[0m\u001b[0;34m.\u001b[0m\u001b[0mexp\u001b[0m\u001b[0;34m(\u001b[0m \u001b[0;34m-\u001b[0m \u001b[0mnp\u001b[0m\u001b[0;34m.\u001b[0m\u001b[0msquare\u001b[0m\u001b[0;34m(\u001b[0m\u001b[0mgridx\u001b[0m \u001b[0;34m-\u001b[0m \u001b[0mperiodic_images\u001b[0m\u001b[0;34m[\u001b[0m\u001b[0mk\u001b[0m\u001b[0;34m]\u001b[0m\u001b[0;34m[\u001b[0m\u001b[0;36m0\u001b[0m\u001b[0;34m]\u001b[0m\u001b[0;34m)\u001b[0m \u001b[0;34m/\u001b[0m \u001b[0;34m(\u001b[0m\u001b[0;36m2\u001b[0m \u001b[0;34m*\u001b[0m \u001b[0mbw_x2\u001b[0m\u001b[0;34m)\u001b[0m\u001b[0;34m)\u001b[0m \u001b[0;34m*\u001b[0m \u001b[0mconst\u001b[0m \u001b[0;31m#add constant here for less computations\u001b[0m\u001b[0;34m\u001b[0m\u001b[0;34m\u001b[0m\u001b[0m\n\u001b[1;32m   1148\u001b[0m                                 \u001b[0mkernel_y\u001b[0m \u001b[0;34m=\u001b[0m \u001b[0mnp\u001b[0m\u001b[0;34m.\u001b[0m\u001b[0mexp\u001b[0m\u001b[0;34m(\u001b[0m \u001b[0;34m-\u001b[0m \u001b[0mnp\u001b[0m\u001b[0;34m.\u001b[0m\u001b[0msquare\u001b[0m\u001b[0;34m(\u001b[0m\u001b[0mgridy\u001b[0m \u001b[0;34m-\u001b[0m \u001b[0mperiodic_images\u001b[0m\u001b[0;34m[\u001b[0m\u001b[0mk\u001b[0m\u001b[0;34m]\u001b[0m\u001b[0;34m[\u001b[0m\u001b[0;36m1\u001b[0m\u001b[0;34m]\u001b[0m\u001b[0;34m)\u001b[0m \u001b[0;34m/\u001b[0m \u001b[0;34m(\u001b[0m\u001b[0;36m2\u001b[0m \u001b[0;34m*\u001b[0m \u001b[0mbw_y2\u001b[0m\u001b[0;34m)\u001b[0m\u001b[0;34m)\u001b[0m\u001b[0;34m\u001b[0m\u001b[0;34m\u001b[0m\u001b[0m\n\u001b[0;32m-> 1149\u001b[0;31m                                 \u001b[0mkernel\u001b[0m \u001b[0;34m=\u001b[0m \u001b[0mnp\u001b[0m\u001b[0;34m.\u001b[0m\u001b[0mouter\u001b[0m\u001b[0;34m(\u001b[0m\u001b[0mkernel_y\u001b[0m\u001b[0;34m,\u001b[0m \u001b[0mkernel_x\u001b[0m\u001b[0;34m)\u001b[0m\u001b[0;34m\u001b[0m\u001b[0;34m\u001b[0m\u001b[0m\n\u001b[0m\u001b[1;32m   1150\u001b[0m                                 \u001b[0mkernel_x\u001b[0m \u001b[0;34m*=\u001b[0m \u001b[0mkT\u001b[0m \u001b[0;34m/\u001b[0m \u001b[0mbw_xy2\u001b[0m \u001b[0;31m#add constant here for less computations\u001b[0m\u001b[0;34m\u001b[0m\u001b[0;34m\u001b[0m\u001b[0m\n\u001b[1;32m   1151\u001b[0m \u001b[0;34m\u001b[0m\u001b[0m\n",
      "\u001b[0;32m<__array_function__ internals>\u001b[0m in \u001b[0;36mouter\u001b[0;34m(*args, **kwargs)\u001b[0m\n",
      "\u001b[0;32m/Applications/anaconda3/lib/python3.7/site-packages/numpy/core/numeric.py\u001b[0m in \u001b[0;36mouter\u001b[0;34m(a, b, out)\u001b[0m\n\u001b[1;32m    934\u001b[0m     \u001b[0ma\u001b[0m \u001b[0;34m=\u001b[0m \u001b[0masarray\u001b[0m\u001b[0;34m(\u001b[0m\u001b[0ma\u001b[0m\u001b[0;34m)\u001b[0m\u001b[0;34m\u001b[0m\u001b[0;34m\u001b[0m\u001b[0m\n\u001b[1;32m    935\u001b[0m     \u001b[0mb\u001b[0m \u001b[0;34m=\u001b[0m \u001b[0masarray\u001b[0m\u001b[0;34m(\u001b[0m\u001b[0mb\u001b[0m\u001b[0;34m)\u001b[0m\u001b[0;34m\u001b[0m\u001b[0;34m\u001b[0m\u001b[0m\n\u001b[0;32m--> 936\u001b[0;31m     \u001b[0;32mreturn\u001b[0m \u001b[0mmultiply\u001b[0m\u001b[0;34m(\u001b[0m\u001b[0ma\u001b[0m\u001b[0;34m.\u001b[0m\u001b[0mravel\u001b[0m\u001b[0;34m(\u001b[0m\u001b[0;34m)\u001b[0m\u001b[0;34m[\u001b[0m\u001b[0;34m:\u001b[0m\u001b[0;34m,\u001b[0m \u001b[0mnewaxis\u001b[0m\u001b[0;34m]\u001b[0m\u001b[0;34m,\u001b[0m \u001b[0mb\u001b[0m\u001b[0;34m.\u001b[0m\u001b[0mravel\u001b[0m\u001b[0;34m(\u001b[0m\u001b[0;34m)\u001b[0m\u001b[0;34m[\u001b[0m\u001b[0mnewaxis\u001b[0m\u001b[0;34m,\u001b[0m \u001b[0;34m:\u001b[0m\u001b[0;34m]\u001b[0m\u001b[0;34m,\u001b[0m \u001b[0mout\u001b[0m\u001b[0;34m)\u001b[0m\u001b[0;34m\u001b[0m\u001b[0;34m\u001b[0m\u001b[0m\n\u001b[0m\u001b[1;32m    937\u001b[0m \u001b[0;34m\u001b[0m\u001b[0m\n\u001b[1;32m    938\u001b[0m \u001b[0;34m\u001b[0m\u001b[0m\n",
      "\u001b[0;31mKeyboardInterrupt\u001b[0m: "
     ]
    }
   ],
   "source": [
    "master = []\n",
    "ofe_history_patch = []\n",
    "aad_history_patch = []\n",
    "volume_history_patch = []\n",
    "ofe_history_patch_time = []\n",
    "\n",
    "\n",
    "os.chdir(path + \"/DATA_examples/UREA/urea_forward/\")\n",
    "pbt_bandwidth = 0.05\n",
    "n_simulations = 21\n",
    "nbins=200\n",
    "\n",
    "\n",
    "# Read force from a fixed bias potential numerically defined\n",
    "potential = np.loadtxt(\"external_potential.dat\")\n",
    "nbins_pot=int(np.sqrt(np.size(potential[:,1])))\n",
    "\n",
    "X=potential[:,0].reshape(nbins_pot,nbins_pot)\n",
    "Y=potential[:,1].reshape(nbins_pot,nbins_pot)\n",
    "P=potential[:,2].reshape(nbins_pot,nbins_pot)\n",
    "Fx=-potential[:,3].reshape(nbins_pot,nbins_pot)\n",
    "Fy=-potential[:,4].reshape(nbins_pot,nbins_pot)\n",
    "\n",
    "minx=np.min(X)\n",
    "miny=np.min(Y)\n",
    "maxx=np.max(X)\n",
    "maxy=np.max(Y)\n",
    "\n",
    "x=np.linspace(minx,maxx,nbins_pot)\n",
    "y=np.linspace(miny,maxy,nbins_pot)\n",
    "\n",
    "Xgrid = np.linspace(minx,maxx,nbins)\n",
    "Ygrid = np.linspace(miny,maxy,nbins)\n",
    "\n",
    "\n",
    "\n",
    "\n",
    "\n",
    "Fxgrid=interpn((x,y),Fx,(Xgrid,Ygrid))\n",
    "\n",
    "print(np.shape(Fxgrid))\n",
    "\n",
    "master_patch = [[np.zeros((nbins,nbins)), np.zeros((nbins,nbins)), np.zeros((nbins,nbins)), np.zeros((nbins,nbins)), np.zeros((nbins,nbins)), np.zeros((nbins,nbins))]]\n",
    "\n",
    "\n",
    "\n",
    "for simulation in np.arange(1,n_simulations): \n",
    "    print(\"\\nAnalysing Simulation \"+ str(simulation))\n",
    "    HILLS=MFI.load_HILLS_2D(hills_name=\"HILLS_\" + str(simulation))\n",
    "    [position_x, position_y] = MFI.load_position_2D(position_name=\"COLVAR_\" + str(simulation))\n",
    "    \n",
    "\n",
    "    #COMPUTE Mean force and weight of the simulation\n",
    "    results = MFI.MFI_2D(HILLS = HILLS, position_x = position_x, position_y = position_y, bw = np.array((pbt_bandwidth, pbt_bandwidth)), kT = 1, min_grid=np.array((np.min(X), np.min(Y))), max_grid=np.array((np.max(X), np.max(Y))), nbins=np.array((nbins,nbins)), error_pace=1, base_terms = master_patch[-1],use_weighted_st_dev = False)\n",
    "    [X, Y, Ftot_den, Ftot_x, Ftot_y, ofv, ofe, cutoff, volume_history, ofe_history, aad_history, time_history, Ftot_den2, ofv_num_x, ofv_num_y] = results\n",
    "    Ftot_x+=Fxgrid\n",
    "    Ftot_y+=Fygrid\n",
    "    \n",
    "    \n",
    "    #store results in master_array\n",
    "    master.append([Ftot_den, Ftot_den2, Ftot_x, Ftot_y, ofv_num_x, ofv_num_y])\n",
    "    #patch master and store result in master_patch\n",
    "    master_patch.append(MFI.patch_2D(master))\n",
    "    #save error history\n",
    "    ofe_history_patch += ofe_history\n",
    "    aad_history_patch += aad_history\n",
    "    volume_history_patch += volume_history\n",
    "    if len(ofe_history_patch_time) > 0: ofe_history_patch_time += [element+ofe_history_patch_time[-1] for element in time_history]\n",
    "    else: ofe_history_patch_time += time_history\n",
    "    \n"
   ]
  },
  {
   "cell_type": "code",
   "execution_count": 24,
   "id": "8241014d-5dd5-4731-b2e6-be3db4e6dd24",
   "metadata": {},
   "outputs": [
    {
     "name": "stdout",
     "output_type": "stream",
     "text": [
      "\n",
      "Analysing Simulation 1\n",
      "|**************************************************| 100% | Average Mean Force Error: 6.248\n",
      "Analysing Simulation 2\n",
      "|**************************************************| 100% | Average Mean Force Error: 2.934\n",
      "Analysing Simulation 3\n",
      "|**************************************************| 100% | Average Mean Force Error: 3.879\n",
      "Analysing Simulation 4\n",
      "|**************************************************| 100% | Average Mean Force Error: 3.288\n",
      "Analysing Simulation 5\n",
      "|**************************************************| 100% | Average Mean Force Error: 3.301\n",
      "Analysing Simulation 6\n",
      "|**************************************************| 100% | Average Mean Force Error: 3.018\n",
      "Analysing Simulation 7\n",
      "|**************************************************| 100% | Average Mean Force Error: 2.78\n",
      "Analysing Simulation 8\n",
      "|**************************************************| 100% | Average Mean Force Error: 2.565\n",
      "Analysing Simulation 9\n",
      "|**************************************************| 100% | Average Mean Force Error: 2.452\n",
      "Analysing Simulation 10\n",
      "|**************************************************| 100% | Average Mean Force Error: 2.334\n",
      "Analysing Simulation 11\n",
      "|**************************************************| 100% | Average Mean Force Error: 2.255\n",
      "Analysing Simulation 12\n",
      "|**************************************************| 100% | Average Mean Force Error: 2.214\n",
      "Analysing Simulation 13\n",
      "|**************************************************| 100% | Average Mean Force Error: 2.121\n",
      "Analysing Simulation 14\n",
      "|**************************************************| 100% | Average Mean Force Error: 2.039\n",
      "Analysing Simulation 15\n",
      "|**************************************************| 100% | Average Mean Force Error: 1.985\n",
      "Analysing Simulation 16\n",
      "|**************************************************| 100% | Average Mean Force Error: 1.932\n",
      "Analysing Simulation 17\n",
      "|**************************************************| 100% | Average Mean Force Error: 1.913\n",
      "Analysing Simulation 18\n",
      "|**************************************************| 100% | Average Mean Force Error: 1.854\n",
      "Analysing Simulation 19\n",
      "|**************************************************| 100% | Average Mean Force Error: 1.812\n",
      "Analysing Simulation 20\n",
      "|**************************************************| 100% | Average Mean Force Error: 1.774"
     ]
    }
   ],
   "source": [
    "os.chdir(path + \"/DATA_examples/UREA/urea_backwards/\")\n",
    "pbt_bandwidth = 0.05\n",
    "n_simulations = 21\n",
    "\n",
    "master = []\n",
    "ofe_history_patch = []\n",
    "aad_history_patch = []\n",
    "volume_history_patch = []\n",
    "ofe_history_patch_time = []\n",
    "\n",
    "# Read force from a fixed bias potential numerically defined\n",
    "potential = np.loadtxt(\"external_potential.dat\")\n",
    "nbins=int(np.sqrt(np.size(potential[:,1])))\n",
    "\n",
    "\n",
    "\n",
    "\n",
    "\n",
    "\n",
    "\n",
    "X=potential[:,0].reshape(nbins,nbins)\n",
    "Y=potential[:,1].reshape(nbins,nbins)\n",
    "P=potential[:,2].reshape(nbins,nbins)\n",
    "Fx=-potential[:,3].reshape(nbins,nbins)\n",
    "Fy=-potential[:,4].reshape(nbins,nbins)\n",
    "\n",
    "master_patch = [[np.zeros((nbins,nbins)), np.zeros((nbins,nbins)), Fx, Fy, np.zeros((nbins,nbins)), np.zeros((nbins,nbins))]]\n",
    "\n",
    "minx=np.min(X)\n",
    "miny=np.min(Y)\n",
    "\n",
    "for simulation in np.arange(1,n_simulations): \n",
    "    print(\"\\nAnalysing Simulation \"+ str(simulation))\n",
    "    HILLS=MFI.load_HILLS_2D(hills_name=\"HILLS_\" + str(simulation))\n",
    "    [position_x, position_y] = MFI.load_position_2D(position_name=\"COLVAR_\" + str(simulation))\n",
    "    \n",
    "\n",
    "    #COMPUTE Mean force and weight of the simulation\n",
    "    results = MFI.MFI_2D(HILLS = HILLS, position_x = position_x, position_y = position_y, bw = np.array((pbt_bandwidth, pbt_bandwidth)), kT = 1, min_grid=np.array((np.min(X), np.min(Y))), max_grid=np.array((np.max(X), np.max(Y))), nbins=np.array((nbins,nbins)), error_pace=1, base_terms = master_patch[-1],use_weighted_st_dev = False)\n",
    "    [X, Y, Ftot_den, Ftot_x, Ftot_y, ofv, ofe, cutoff, volume_history, ofe_history, aad_history, time_history, Ftot_den2, ofv_num_x, ofv_num_y] = results\n",
    "    \n",
    "    #store results in master_array\n",
    "    master.append([Ftot_den, Ftot_den2, Ftot_x, Ftot_y, ofv_num_x, ofv_num_y])\n",
    "    #patch master and store result in master_patch\n",
    "    master_patch.append(MFI.patch_2D(master))\n",
    "    #save error history\n",
    "    ofe_history_patch += ofe_history\n",
    "    aad_history_patch += aad_history\n",
    "    volume_history_patch += volume_history\n",
    "    if len(ofe_history_patch_time) > 0: ofe_history_patch_time += [element+ofe_history_patch_time[-1] for element in time_history]\n",
    "    else: ofe_history_patch_time += time_history\n",
    "\n",
    "\n",
    "\n",
    "\n"
   ]
  },
  {
   "cell_type": "code",
   "execution_count": 27,
   "id": "b9eac76d-956c-460b-80af-787a212562ce",
   "metadata": {},
   "outputs": [
    {
     "data": {
      "text/plain": [
       "<matplotlib.contour.QuadContourSet at 0x7f800c032650>"
      ]
     },
     "execution_count": 27,
     "metadata": {},
     "output_type": "execute_result"
    },
    {
     "data": {
      "image/png": "[encoded data removed]",
      "text/plain": [
       "<Figure size 360x288 with 1 Axes>"
      ]
     },
     "metadata": {
      "needs_background": "light"
     },
     "output_type": "display_data"
    }
   ],
   "source": [
    "#integration on a non-periodic! domain\n",
    "[Xp, Yp, FES_patch] = MFI.intgrad2(master_patch[-1][2], master_patch[-1][3], min_grid=np.array((np.min(X), np.min(Y))), max_grid=np.array((np.max(X), np.max(Y))))\n",
    "\n",
    "\n",
    "plt.contourf(Xp,Yp,FES_patch)"
   ]
  },
  {
   "cell_type": "code",
   "execution_count": 30,
   "id": "75630d26-10ca-48c3-a259-41ae15bb2cc7",
   "metadata": {},
   "outputs": [
    {
     "data": {
      "text/plain": [
       "[<matplotlib.lines.Line2D at 0x7f800c9d8fd0>]"
      ]
     },
     "execution_count": 30,
     "metadata": {},
     "output_type": "execute_result"
    },
    {
     "data": {
      "image/png": "[encoded data removed]",
      "text/plain": [
       "<Figure size 360x288 with 1 Axes>"
      ]
     },
     "metadata": {
      "needs_background": "light"
     },
     "output_type": "display_data"
    }
   ],
   "source": [
    "plt.plot(position_x,position_y)"
   ]
  },
  {
   "cell_type": "code",
   "execution_count": null,
   "id": "4d914de2-b8ac-4491-8088-6c4788172493",
   "metadata": {},
   "outputs": [],
   "source": []
  }
 ],
 "metadata": {
  "kernelspec": {
   "display_name": "Python 3",
   "language": "python",
   "name": "python3"
  },
  "language_info": {
   "codemirror_mode": {
    "name": "ipython",
    "version": 3
   },
   "file_extension": ".py",
   "mimetype": "text/x-python",
   "name": "python",
   "nbconvert_exporter": "python",
   "pygments_lexer": "ipython3",
   "version": "3.7.7"
  },
  "vscode": {
   "interpreter": {
    "hash": "cd78fef2128015050713e82ca51c6520b11aee7c9ee8df750520bbbc7384cbaa"
   }
  }
 },
 "nbformat": 4,
 "nbformat_minor": 5
}
