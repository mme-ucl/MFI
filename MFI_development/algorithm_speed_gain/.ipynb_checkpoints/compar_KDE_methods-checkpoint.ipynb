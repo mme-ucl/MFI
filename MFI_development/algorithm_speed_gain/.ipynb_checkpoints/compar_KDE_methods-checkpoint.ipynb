{
 "cells": [
  {
   "cell_type": "markdown",
   "metadata": {},
   "source": [
    "### Method to estimate the bias probability density and the force component related to the probability density. Typically contain set of 10 to 20 x-y position data."
   ]
  },
  {
   "cell_type": "markdown",
   "metadata": {},
   "source": [
    "#### First, define constants, base functions and load positions."
   ]
  },
  {
   "cell_type": "code",
   "execution_count": 32,
   "metadata": {},
   "outputs": [],
   "source": [
    "import numpy as np\n",
    "import os\n",
    "import time\n",
    "import glob\n",
    "import matplotlib.pyplot as plt\n",
    "from numba import jit, njit\n",
    "from matplotlib import ticker"
   ]
  },
  {
   "cell_type": "code",
   "execution_count": 33,
   "metadata": {},
   "outputs": [],
   "source": [
    "#Define grid \n",
    "min_grid=np.array((-np.pi, -np.pi))\n",
    "max_grid=np.array((np.pi, np.pi))\n",
    "nbins=np.array((200, 200))\n",
    "gridy = np.linspace(min_grid[1], max_grid[1], nbins[1])\n",
    "gridx = np.linspace(min_grid[0], max_grid[0], nbins[0])\n",
    "grid_space = np.array(((max_grid[0] - min_grid[0]) / (nbins[0]-1), (max_grid[1] - min_grid[1]) / (nbins[1]-1)))\n",
    "X, Y = np.meshgrid(gridx, gridy)\n",
    "#Define constants\n",
    "bw = 0.1\n",
    "bw2 = bw**2\n",
    "stride = 10\n",
    "const = (1 / (bw * np.sqrt(2 * np.pi) * stride))\n",
    "kT = 1\n",
    "x0, y0 = 0,0"
   ]
  },
  {
   "cell_type": "code",
   "execution_count": 34,
   "metadata": {},
   "outputs": [],
   "source": [
    "def load_HILLS_2D(hills_name=\"../data/HILLS\"):\n",
    "\t\"\"\"Load 2-dimensional hills data (includes time, position_x, position_y, hills_parameters ).\n",
    "\t\n",
    "\tArgs:\n",
    "\t\thills_name (str, optional): Name of hills file. Defaults to \"HILLS\".\n",
    "\tReturns:\n",
    "\t\tnp.array: Array with hills data\n",
    "\t\"\"\"\n",
    "\tfor file in glob.glob(hills_name):\n",
    "\t\thills = np.loadtxt(file)\n",
    "\t\thills = np.concatenate(([hills[0]], hills[:-1]))\n",
    "\t\thills[0][5] = 0\n",
    "\treturn hills\n",
    "\n",
    "def load_position_2D(position_name=\"../data/position\"):\n",
    "\t\"\"\"Load 2-dimensional position/trajectory data.\n",
    "\n",
    "\tArgs:\n",
    "\t\tposition_name (str, optional): Name of position file. Defaults to \"position\".\n",
    "\n",
    "\tReturns:\n",
    "\t\tlist: 2 * np.array with position data of each dimension ([position_x, position_y])\n",
    "\t\"\"\"\n",
    "\tfor file1 in glob.glob(position_name):\n",
    "\t\tcolvar = np.loadtxt(file1)\n",
    "\t\tposition_x = colvar[:-1, 1]\n",
    "\t\tposition_y = colvar[:-1, 2]\n",
    "\treturn [position_x, position_y]\n",
    "\n",
    "def find_periodic_point(x_coord, y_coord, min_grid, max_grid, periodic):\n",
    "\t\"\"\"Finds periodic copies of input coordinates. \n",
    "\t\n",
    "\tArgs:\n",
    "\t\tx_coord (float): CV1-coordinate\n",
    "\t\ty_coord (float): CV2-coordinate\n",
    "\t\tmin_grid (list): list of CV1-minimum value of grid and CV2-minimum value of grid\n",
    "\t\tmax_grid (list): list of CV1-maximum value of grid and CV2-maximum value of grid\n",
    "\t\tperiodic (binary): information if system is periodic. value of 0 corresponds to non-periodic system; function will only return input coordinates. Value of 1 corresponds to periodic system; function will return input coordinates with periodic copies.\n",
    "\tReturns:\n",
    "\t\tlist: list of [x-coord, y-coord] pairs\n",
    "\t\"\"\"\n",
    "\n",
    "\tcoord_list = []\n",
    "\tcoord_list.append([x_coord, y_coord])\n",
    "\t\n",
    "\tif periodic == 1:\n",
    "\t\t# Use periodic extension for defining PBC\n",
    "\t\tperiodic_extension = periodic * 1 / 2\n",
    "\t\tgrid_ext = (1 / 2) * periodic_extension * (max_grid - min_grid)\n",
    "\n",
    "\t\t# There are potentially 4 points, 1 original and 3 periodic copies, or less.\n",
    "\n",
    "\t\tcopy_record = [0, 0, 0, 0]\n",
    "\t\t# check for x-copy\n",
    "\t\tif x_coord < min_grid[0] + grid_ext[0]:\n",
    "\t\t\tcoord_list.append([x_coord + 2 * np.pi, y_coord])\n",
    "\t\t\tcopy_record[0] = 1\n",
    "\t\telif x_coord > max_grid[0] - grid_ext[0]:\n",
    "\t\t\tcoord_list.append([x_coord - 2 * np.pi, y_coord])\n",
    "\t\t\tcopy_record[1] = 1\n",
    "\t\t# check for y-copy\n",
    "\t\tif y_coord < min_grid[1] + grid_ext[1]:\n",
    "\t\t\tcoord_list.append([x_coord, y_coord + 2 * np.pi])\n",
    "\t\t\tcopy_record[2] = 1\n",
    "\t\telif y_coord > max_grid[1] - grid_ext[1]:\n",
    "\t\t\tcoord_list.append([x_coord, y_coord - 2 * np.pi])\n",
    "\t\t\tcopy_record[3] = 1\n",
    "\t\t# check for xy-copy\n",
    "\t\tif sum(copy_record) == 2:\n",
    "\t\t\tif copy_record[0] == 1 and copy_record[2] == 1:\n",
    "\t\t\t\tcoord_list.append([x_coord + 2 * np.pi, y_coord + 2 * np.pi])\n",
    "\t\t\telif copy_record[1] == 1 and copy_record[2] == 1:\n",
    "\t\t\t\tcoord_list.append([x_coord - 2 * np.pi, y_coord + 2 * np.pi])\n",
    "\t\t\telif copy_record[0] == 1 and copy_record[3] == 1:\n",
    "\t\t\t\tcoord_list.append([x_coord + 2 * np.pi, y_coord - 2 * np.pi])\n",
    "\t\t\telif copy_record[1] == 1 and copy_record[3] == 1:\n",
    "\t\t\t\tcoord_list.append([x_coord - 2 * np.pi, y_coord - 2 * np.pi])        \n",
    "\n",
    "\treturn coord_list"
   ]
  },
  {
   "cell_type": "code",
   "execution_count": 35,
   "metadata": {},
   "outputs": [],
   "source": [
    "HILLS = load_HILLS_2D(\"../data/HILLS40\")\n",
    "[p_x,p_y] = load_position_2D(\"../data/position40\")"
   ]
  },
  {
   "cell_type": "markdown",
   "metadata": {},
   "source": [
    "### (0) Naive method"
   ]
  },
  {
   "cell_type": "code",
   "execution_count": 375,
   "metadata": {},
   "outputs": [],
   "source": [
    "#Number of evaluations\n",
    "nhills = 200\n",
    "n_eval = int(nhills / (stride/10))\n",
    "[pos_x, pos_y] = [p_x[:stride*n_eval],p_y[:stride*n_eval]]"
   ]
  },
  {
   "cell_type": "code",
   "execution_count": 366,
   "metadata": {},
   "outputs": [],
   "source": [
    "def gaus_normal(data_x, data_y):\n",
    "\t\n",
    "\tpb_t = np.zeros_like(X)\n",
    "\tFpbt_x = np.zeros_like(X)\n",
    "\tFpbt_y = np.zeros_like(X)\n",
    "\t\n",
    "\tfor j in range(len(data_x)):\n",
    "\t\tkernel = const * np.exp( - (1 / (2 * bw2)) * ((X - data_x[j]) ** 2 + (Y - data_y[j]) ** 2))\n",
    "\t\tpb_t = pb_t + kernel\n",
    "\t\tFpbt_x = Fpbt_x + kernel * kT * (X - data_x[j]) / bw2\n",
    "\t\tFpbt_y = Fpbt_y + kernel * kT * (Y - data_y[j]) / bw2\n",
    "\t\t\n",
    "\treturn [pb_t, Fpbt_x, Fpbt_y]"
   ]
  },
  {
   "cell_type": "code",
   "execution_count": 376,
   "metadata": {},
   "outputs": [
    {
     "name": "stdout",
     "output_type": "stream",
     "text": [
      "time for >>gaus_normal<< is: 2.1954565048217773\n"
     ]
    }
   ],
   "source": [
    "#-->Run Gaus normal\n",
    "results = np.zeros((3,nbins[0],nbins[1]))\n",
    "start = time.time()\n",
    "for i in range(n_eval): results += gaus_normal(pos_x[i*stride: (i+1)*stride],pos_y[i*stride: (i+1)*stride]) \n",
    "[P, FX, FY] = results\n",
    "\n",
    "t_normal = time.time()-start\t\n",
    "print(\"time for >>gaus_normal<< is:\", t_normal)"
   ]
  },
  {
   "cell_type": "code",
   "execution_count": 20,
   "metadata": {},
   "outputs": [
    {
     "data": {
      "text/plain": [
       "Text(0.5, 1.0, 'FX normal')"
      ]
     },
     "execution_count": 20,
     "metadata": {},
     "output_type": "execute_result"
    },
    {
     "data": {
      "image/png": "[encoded data removed]",
      "text/plain": [
       "<Figure size 720x576 with 2 Axes>"
      ]
     },
     "metadata": {
      "needs_background": "light"
     },
     "output_type": "display_data"
    }
   ],
   "source": [
    "plt.figure(1, figsize=(10,8))\n",
    "plt.subplot(2,2,1)\n",
    "plt.contourf(X,Y,P, cmap=\"coolwarm\")#, levels = np.linspace(-80,80,11))\n",
    "plt.colorbar()\n",
    "plt.scatter(HILLS[:n_eval,1], HILLS[:n_eval,2], c=\"r\", s=2)\n",
    "plt.title(\"FX normal\")"
   ]
  },
  {
   "cell_type": "markdown",
   "metadata": {},
   "source": [
    "### (1) Numpy mothod (optimise the use of numpy)"
   ]
  },
  {
   "cell_type": "code",
   "execution_count": 382,
   "metadata": {},
   "outputs": [],
   "source": [
    "def gaus_numpy(data_x, data_y):\n",
    "\t\n",
    "\tpb_t = np.zeros_like(X)\n",
    "\tFpbt_x = np.zeros_like(X)\n",
    "\tFpbt_y = np.zeros_like(X)\n",
    "\t\n",
    "\tfor j in range(len(data_x)):\n",
    "\t\tkernel_x = np.exp( - np.square(gridx - data_x[j]) / (2 * bw2))\n",
    "\t\tkernel_y = np.exp( - np.square(gridy - data_y[j]) / (2 * bw2))\n",
    "\t\tkernel = const * np.outer(kernel_y, kernel_x)\n",
    "  \t \n",
    "\t\tpb_t = pb_t + kernel\n",
    "\t\t# kernel = kernel \n",
    "\t\tFpbt_x = Fpbt_x + kT / bw2 * np.multiply(kernel , (X - data_x[j]) )\n",
    "\t\tFpbt_y = Fpbt_y + kT / bw2 * np.multiply(kernel , (Y - data_y[j]) )\n",
    "\t\n",
    "\treturn [pb_t, Fpbt_x, Fpbt_y]\n",
    "\n",
    "def gaus_numpy2(data_x, data_y):\n",
    "\t\n",
    "\tpb_t = np.zeros_like(X)\n",
    "\tFpbt_x = np.zeros_like(X)\n",
    "\tFpbt_y = np.zeros_like(X)\n",
    " \t\n",
    "\tfor j in range(len(data_x)):\n",
    "\t\tkernel_x = np.exp( - np.square(gridx - data_x[j]) / (2 * bw2)) * const #add constant here for less computations\n",
    "\t\tkernel_y = np.exp( - np.square(gridy - data_y[j]) / (2 * bw2))\n",
    "\t\tkernel = np.outer(kernel_y, kernel_x) #* const\n",
    "\n",
    "\t\tkernel_x = kernel_x * kT / bw2 #add constant here for less computations\n",
    "\n",
    "\t\tpb_t = pb_t + kernel\n",
    "\t\tFpbt_x = Fpbt_x + np.outer(kernel_y, np.multiply(kernel_x, (gridx - data_x[j])) )\n",
    "\t\tFpbt_y = Fpbt_y + np.outer(np.multiply(kernel_y, (gridy - data_y[j])) , kernel_x )\n",
    "  \n",
    "\treturn [pb_t, Fpbt_x, Fpbt_y]"
   ]
  },
  {
   "cell_type": "code",
   "execution_count": 390,
   "metadata": {},
   "outputs": [
    {
     "name": "stdout",
     "output_type": "stream",
     "text": [
      "time for >>gaus_numpy2<< is: 0.6311459541320801\n",
      "time saving: 71.25 %\n",
      "differecen in pb_t: 9.019219190464575e-17 \n",
      "differecen in FX: 5.113893513470527e-16 \n",
      "differecen in FY: 4.304061435772131e-16\n"
     ]
    }
   ],
   "source": [
    "#-->Run Gaus Numpy2\n",
    "results = np.zeros((3,nbins[0],nbins[1]))\n",
    "start = time.time()\n",
    "for i in range(n_eval): results += gaus_numpy2(pos_x[i*stride: (i+1)*stride],pos_y[i*stride: (i+1)*stride]) \n",
    "[Ps, FXs, FYs] = results\n",
    "t_numpy2 = time.time()-start\n",
    "\n",
    "print(\"time for >>gaus_numpy2<< is:\", t_numpy2)\n",
    "print(\"time saving:\", round(100*(t_normal - t_numpy2)/t_normal, 2), \"%\")\n",
    "print(\"differecen in pb_t:\", sum(sum(abs(P - Ps))) / 200**2, \"\\ndifferecen in FX:\", sum(sum(abs(FX - FXs))) / 200**2, \"\\ndifferecen in FY:\", sum(sum(abs(FY - FYs))) / 200**2)\n"
   ]
  },
  {
   "cell_type": "markdown",
   "metadata": {},
   "source": [
    "### (2) No-Loop method (uses vectorisation instead of for loops)"
   ]
  },
  {
   "cell_type": "code",
   "execution_count": 333,
   "metadata": {},
   "outputs": [],
   "source": [
    "X10 = np.broadcast_to(X, (stride,)+X.shape)\n",
    "Y10 = np.broadcast_to(Y, (stride,)+Y.shape)\n",
    "\n",
    "def gaus_noloop(data_x, data_y):\n",
    "\t \n",
    "\tdata_x = np.expand_dims(data_x, axis=(2,1))\n",
    "\tdata_y = np.expand_dims(data_y, axis=(2,1))\n",
    " \n",
    "\tdiffx = X10 - data_x\n",
    "\tdiffy = Y10 - data_y\n",
    " \n",
    "\tkernel = const * np.exp( - (1 / (2 * bw2)) * ( np.square(diffx) + np.square(diffy)) )\n",
    "\tpb_t = np.sum(kernel, axis=0)\n",
    " \n",
    "\tFx_kernel = kT / bw2 * np.multiply(kernel, diffx)\n",
    "\tFpbt_x = np.sum(Fx_kernel, axis=0)\n",
    " \n",
    "\tFy_kernel = kT / bw2 * np.multiply(kernel, diffy)\n",
    "\tFpbt_y = np.sum(Fy_kernel, axis=0)\n",
    "\t\n",
    "\treturn [pb_t, Fpbt_x, Fpbt_y]\n",
    "\n",
    "gx10 = np.broadcast_to(gridx, (stride,)+gridx.shape)\n",
    "gy10 = np.broadcast_to(gridy, (stride,)+gridy.shape)\n",
    "\n",
    "def gaus_noloop2(data_x, data_y):\n",
    "\t\n",
    "\tdata_x = np.expand_dims(data_x, axis=1)\n",
    "\tdata_y = np.expand_dims(data_y, axis=1)\n",
    " \n",
    "\tdiffx = gx10 - data_x\n",
    "\tdiffy = gy10 - data_y\n",
    " \n",
    "\tkernel_x = np.exp( - np.square(diffx) / (2 * bw2)) * const\n",
    "\tkernel_y = np.exp( - np.square(diffy) / (2 * bw2)) \n",
    "\tkernel = np.einsum('ij,ik -> ijk ',kernel_y, kernel_x)\n",
    " \n",
    "\tkernel_x = kernel_x * kT / bw2\n",
    " \n",
    "\tFx_kernel = np.einsum('ij,ik -> ijk ', kernel_y, kernel_x * diffx)\n",
    "\tFy_kernel = np.einsum('ij,ik -> ijk ', kernel_y * diffy, kernel_x)\n",
    "\t\n",
    "\tpb_t = np.sum(kernel, axis=0)\n",
    "\tFpbt_x = np.sum(Fx_kernel, axis=0)\n",
    "\tFpbt_y = np.sum(Fy_kernel, axis=0)\n",
    "\t\n",
    "\treturn [pb_t, Fpbt_x, Fpbt_y]\n"
   ]
  },
  {
   "cell_type": "code",
   "execution_count": 329,
   "metadata": {},
   "outputs": [
    {
     "name": "stdout",
     "output_type": "stream",
     "text": [
      "time for >>gaus_noloop2<< is: 0.673586368560791\n",
      "time saving: 68.36 %\n",
      "differecen in pb_t: 9.019219190464575e-17 \n",
      "differecen in FX: 5.113893513470527e-16 \n",
      "differecen in FY: 4.304061435772131e-16\n"
     ]
    }
   ],
   "source": [
    "#-->Run Gaus NoLoop2\n",
    "results = np.zeros((3,nbins[0],nbins[1]))\n",
    "start = time.time()\n",
    "for i in range(n_eval): results += gaus_noloop2(pos_x[i*stride: (i+1)*stride],pos_y[i*stride: (i+1)*stride]) \n",
    "[Ps, FXs, FYs] = results\n",
    "t_noloop2 = time.time()-start\n",
    "\n",
    "print(\"time for >>gaus_noloop2<< is:\", t_noloop2)\n",
    "print(\"time saving:\", round(100*(t_normal - t_noloop2)/t_normal, 2), \"%\")\n",
    "print(\"differecen in pb_t:\", sum(sum(abs(P - Ps))) / 200**2, \"\\ndifferecen in FX:\", sum(sum(abs(FX - FXs))) / 200**2, \"\\ndifferecen in FY:\", sum(sum(abs(FY - FYs))) / 200**2)\n"
   ]
  },
  {
   "cell_type": "markdown",
   "metadata": {},
   "source": [
    "### (3) Gradient method (Calculates the force from the gradient of the sum of probability densities)"
   ]
  },
  {
   "cell_type": "code",
   "execution_count": 323,
   "metadata": {},
   "outputs": [],
   "source": [
    "def gaus_gradient(data_x, data_y):\n",
    "\t\n",
    "\tpb_t = np.zeros_like(X)\n",
    "\t\n",
    "\tfor j in range(len(data_x)):\n",
    "\t\tkernel_x = np.exp( - np.square(gridx - data_x[j]) / (2 * bw2)) * const #add constant here for less computations\n",
    "\t\tkernel_y = np.exp( - np.square(gridy - data_y[j]) / (2 * bw2))\n",
    "\t\tkernel = np.outer(kernel_y, kernel_x)\n",
    "\n",
    "\t\tpb_t = pb_t + kernel\n",
    "  \n",
    "\tFpbt_y, Fpbt_x = np.gradient(pb_t, grid_space[0], grid_space[1])\n",
    "\t\n",
    "\treturn [pb_t, -Fpbt_x, -Fpbt_y]"
   ]
  },
  {
   "cell_type": "code",
   "execution_count": 330,
   "metadata": {},
   "outputs": [
    {
     "name": "stdout",
     "output_type": "stream",
     "text": [
      "time for >>gaus_gradient<< is: 0.3134772777557373\n",
      "time saving: 85.28 %\n",
      "differecen in pb_t: 9.019219190464575e-17 \n",
      "differecen in FX: 0.042751147807133856 \n",
      "differecen in FY: 0.04026909233387686\n"
     ]
    }
   ],
   "source": [
    "#-->Run Gaus Gradient\n",
    "results = np.zeros((3,nbins[0],nbins[1]))\n",
    "start = time.time()\n",
    "for i in range(n_eval): results += gaus_gradient(pos_x[i*stride: (i+1)*stride],pos_y[i*stride: (i+1)*stride]) \n",
    "[Ps, FXs, FYs] = results\n",
    "t_gradient = time.time()-start\n",
    "\n",
    "print(\"time for >>gaus_gradient<< is:\", t_gradient)\n",
    "print(\"time saving:\", round(100*(t_normal - t_gradient)/t_normal, 2), \"%\")\n",
    "print(\"differecen in pb_t:\", sum(sum(abs(P - Ps))) / 200**2, \"\\ndifferecen in FX:\", sum(sum(abs(FX - FXs))) / 200**2, \"\\ndifferecen in FY:\", sum(sum(abs(FY - FYs))) / 200**2)"
   ]
  },
  {
   "cell_type": "markdown",
   "metadata": {},
   "source": [
    "### (4) Shift Method (Instead of recalculating a Gaussian and it's derivative every time, take an existing Gaus. + derivative and shift it around the position data)"
   ]
  },
  {
   "cell_type": "code",
   "execution_count": 370,
   "metadata": {},
   "outputs": [],
   "source": [
    "gridx_long = np.linspace(-5, 5, 1000)\n",
    "gridy_long = np.linspace(-5, 5, 1000)\n",
    "X_long, Y_long = np.meshgrid(gridx_long, gridy_long)\n",
    "\n",
    "Z_long = const * np.exp( - (X_long**2 + Y_long**2) / (2 * bw2) )\n",
    "ZX_long = Z_long * kT * (X_long) / bw2\n",
    "ZY_long = Z_long * kT * (Y_long) / bw2\n",
    "\n",
    "from scipy import interpolate\n",
    "f_long = interpolate.interp2d(gridx_long, gridy_long, Z_long, kind='cubic')\n",
    "fx_long = interpolate.interp2d(gridx_long, gridy_long, ZX_long, kind='cubic')\n",
    "fy_long = interpolate.interp2d(gridx_long, gridy_long, ZY_long, kind='cubic')\n",
    "\n",
    "def recentre(x_new, y_new):\n",
    "\t\n",
    "\tx_new = np.linspace(x_new+min_grid[0], x_new+max_grid[0], 200)\n",
    "\ty_new = np.linspace(y_new+min_grid[1], y_new+max_grid[1], 200)\n",
    " \n",
    "\tZ_new = f_long(-x_new,-y_new)\n",
    "\tZ_new += np.min(Z_new)\n",
    " \n",
    "\tZX_new = fx_long(-x_new, -y_new)\n",
    "\tZY_new = fy_long(-x_new, -y_new)\n",
    "\treturn [Z_new, ZX_new, ZY_new]\n",
    "\n",
    "def gaus_shift(data_x, data_y):\n",
    "\t\n",
    "\tpb_t = np.zeros_like(X)\n",
    "\tFpbt_x = np.zeros_like(X)\n",
    "\tFpbt_y = np.zeros_like(X)\n",
    "\t\n",
    "\tfor j in range(len(data_x)):\n",
    "\t\t[Z_new, ZX_new, ZY_new] = recentre(data_x[j], data_y[j])\n",
    "\t\tpb_t = pb_t + Z_new\n",
    "\t\tFpbt_x = Fpbt_x + ZX_new\n",
    "\t\tFpbt_y = Fpbt_y + ZY_new\n",
    "\t\n",
    "\treturn [pb_t, Fpbt_x, Fpbt_y]"
   ]
  },
  {
   "cell_type": "code",
   "execution_count": 377,
   "metadata": {},
   "outputs": [
    {
     "name": "stdout",
     "output_type": "stream",
     "text": [
      "time for >>gaus_shift<< is: 34.82797884941101\n",
      "time saving: -1486.37 %\n",
      "differecen in pb_t: 1.0594105835570846e-07 \n",
      "differecen in FX: 1.6460216544603435e-06 \n",
      "differecen in FY: 1.6456970501648846e-06\n"
     ]
    }
   ],
   "source": [
    "#-->Run Gaus shift\n",
    "results = np.zeros((3,nbins[0],nbins[1]))\n",
    "start = time.time()\n",
    "for i in range(n_eval): results += gaus_shift(pos_x[i*stride: (i+1)*stride],pos_y[i*stride: (i+1)*stride]) \n",
    "[Ps, FXs, FYs] = results\n",
    "t_shift = time.time()-start\n",
    "\n",
    "print(\"time for >>gaus_shift<< is:\", t_shift)\n",
    "print(\"time saving:\", round(100*(t_normal - t_shift)/t_normal, 2), \"%\")\n",
    "print(\"differecen in pb_t:\", sum(sum(abs(P - Ps))) / 200**2, \"\\ndifferecen in FX:\", sum(sum(abs(FX - FXs))) / 200**2, \"\\ndifferecen in FY:\", sum(sum(abs(FY - FYs))) / 200**2)"
   ]
  },
  {
   "cell_type": "markdown",
   "metadata": {},
   "source": [
    "### (5) Numpy and @njit"
   ]
  },
  {
   "cell_type": "code",
   "execution_count": 340,
   "metadata": {},
   "outputs": [],
   "source": [
    "@njit\n",
    "def gaus_numba(data_x, data_y):\n",
    "\t\n",
    "\tpb_t = np.zeros_like(X)\n",
    "\tFpbt_x = np.zeros_like(X)\n",
    "\tFpbt_y = np.zeros_like(X)\n",
    " \t\n",
    "\tfor j in range(len(data_x)):\n",
    "\t\tkernel_x = np.exp( - np.square(gridx - data_x[j]) / (2 * bw2)) * const #add constant here for less computations\n",
    "\t\tkernel_y = np.exp( - np.square(gridy - data_y[j]) / (2 * bw2))\n",
    "\t\tkernel = np.outer(kernel_y, kernel_x) #* const\n",
    "\n",
    "\t\tkernel_x = kernel_x * kT / bw2 #add constant here for less computations\n",
    "\n",
    "\t\tpb_t = pb_t + kernel\n",
    "\t\tFpbt_x = Fpbt_x + np.outer(kernel_y, kernel_x  * (gridx - data_x[j]) )\n",
    "\t\tFpbt_y = Fpbt_y + np.outer(kernel_y * (gridy - data_y[j]) , kernel_x )\n",
    "  \n",
    "\treturn [pb_t, Fpbt_x, Fpbt_y]"
   ]
  },
  {
   "cell_type": "code",
   "execution_count": 344,
   "metadata": {},
   "outputs": [
    {
     "name": "stdout",
     "output_type": "stream",
     "text": [
      "time for >>gaus_numba<< is: 0.7787880897521973\n",
      "time saving: 63.42 %\n",
      "differecen in pb_t: 9.019219190464575e-17 \n",
      "differecen in FX: 5.113893513470527e-16 \n",
      "differecen in FY: 4.304061435772131e-16\n"
     ]
    }
   ],
   "source": [
    "#-->Run Gaus Numba\n",
    "results = np.zeros((3,nbins[0],nbins[1]))\n",
    "start = time.time()\n",
    "for i in range(n_eval): results += gaus_numba(pos_x[i*stride: (i+1)*stride],pos_y[i*stride: (i+1)*stride]) \n",
    "[Ps, FXs, FYs] = results\n",
    "t_numba = time.time()-start\n",
    "\n",
    "print(\"time for >>gaus_numba<< is:\", t_numba)\n",
    "print(\"time saving:\", round(100*(t_normal - t_numba)/t_normal, 2), \"%\")\n",
    "print(\"differecen in pb_t:\", sum(sum(abs(P - Ps))) / 200**2, \"\\ndifferecen in FX:\", sum(sum(abs(FX - FXs))) / 200**2, \"\\ndifferecen in FY:\", sum(sum(abs(FY - FYs))) / 200**2)\n"
   ]
  },
  {
   "cell_type": "markdown",
   "metadata": {},
   "source": [
    "### Pleas feel free to contribute with your own ideas!\n"
   ]
  },
  {
   "cell_type": "markdown",
   "metadata": {},
   "source": [
    "### Plot differences"
   ]
  },
  {
   "cell_type": "code",
   "execution_count": null,
   "metadata": {},
   "outputs": [],
   "source": [
    "# plt.figure(1, figsize=(10,8))\n",
    "# plt.subplot(2,2,1)\n",
    "# plt.contourf(X,Y,FX, cmap=\"coolwarm\")#, levels = np.linspace(-80,80,11))\n",
    "# plt.colorbar()\n",
    "# plt.scatter(HILLS[:n_eval,1], HILLS[:n_eval,2], c=\"r\", s=2)\n",
    "# plt.title(\"FX normal\")\n",
    "\n",
    "# plt.subplot(2,2,2)\n",
    "# plt.contourf(X,Y,FXs, cmap=\"coolwarm\")#, levels = np.linspace(-1,1,21))\n",
    "# # plt.contourf(X,Y,abs(FX - FXs), cmap=\"coolwarm\", levels = np.linspace(-1,1,21))\n",
    "# plt.colorbar()\n",
    "# plt.scatter(HILLS[:n_eval,1], HILLS[:n_eval,2], c=\"r\", s=2)\n",
    "# plt.title(\"FX outer\")\n",
    "\n",
    "# # plt.figure(2, figsize=(10,4))\n",
    "# plt.subplot(2,2,3)\n",
    "# plt.contourf(X,Y,FY, cmap=\"coolwarm\")\n",
    "# plt.colorbar()\n",
    "# plt.scatter(HILLS[:n_eval,1], HILLS[:n_eval,2], c=\"r\", s=2)\n",
    "# plt.title(\"FY normal\")\n",
    "\n",
    "# plt.subplot(2,2,4)\n",
    "# plt.contourf(X,Y,FYs, cmap=\"coolwarm\")#, levels = np.linspace(-1,1,21))\n",
    "# plt.colorbar()\n",
    "# plt.scatter(HILLS[:n_eval,1], HILLS[:n_eval,2], c=\"r\", s=2)\n",
    "# plt.title(\"FY outer\")\n",
    "\n",
    "# plt.figure(3, figsize=(10,4))\n",
    "# plt.subplot(1,2,1)\n",
    "# plt.contourf(X,Y,P, cmap=\"coolwarm\")#, levels = np.linspace(0,7,51))\n",
    "# plt.colorbar()\n",
    "# plt.scatter(p_x[:n_eval*10], p_y[:n_eval*10], c=\"yellow\", s=2)\n",
    "# plt.title(\"P normal\")\n",
    "\n",
    "# plt.subplot(1,2,2)\n",
    "# plt.contourf(X,Y,Ps, cmap=\"coolwarm\")#, levels = np.linspace(0,7,51))\n",
    "# plt.colorbar()\n",
    "# plt.scatter(p_x[:n_eval*10], p_y[:n_eval*10], c=\"yellow\", s=2)\n",
    "# plt.title(\"Ps outer\")\n",
    "\n",
    "# plt.show()"
   ]
  }
 ],
 "metadata": {
  "interpreter": {
   "hash": "03ae04260e478434a99f6a85d47b9294450c44a76b572c3ffee886dfa13495b2"
  },
  "kernelspec": {
   "display_name": "Python 3.8.5 ('base')",
   "language": "python",
   "name": "python3"
  },
  "language_info": {
   "codemirror_mode": {
    "name": "ipython",
    "version": 3
   },
   "file_extension": ".py",
   "mimetype": "text/x-python",
   "name": "python",
   "nbconvert_exporter": "python",
   "pygments_lexer": "ipython3",
   "version": "3.8.5"
  },
  "orig_nbformat": 4
 },
 "nbformat": 4,
 "nbformat_minor": 2
}
